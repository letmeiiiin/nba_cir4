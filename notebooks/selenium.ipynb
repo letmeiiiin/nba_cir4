{
 "cells": [
  {
   "cell_type": "markdown",
   "metadata": {},
   "source": [
    "# Installation WSL2\n",
    "- sudo apt update && sudo apt -y upgrade && sudo apt -y autoremove\n",
    "- wget https://dl.google.com/linux/direct/google-chrome-stable_current_amd64.deb\n",
    "- sudo apt -y install ./google-chrome-stable_current_amd64.deb\n",
    "- rm -rf google-chrome-stable_current_amd64.deb\n",
    "\n",
    "# Installation Windows\n",
    "- Installer chrome"
   ]
  },
  {
   "cell_type": "code",
   "execution_count": null,
   "metadata": {},
   "outputs": [],
   "source": [
    "from selenium import webdriver\n",
    "from webdriver_manager.chrome import ChromeDriverManager\n",
    "\n",
    "headless = True\n",
    "chrome_options = webdriver.ChromeOptions()\n",
    "\n",
    "chrome_options.add_argument(\"lang=fr\")\n",
    "chrome_options.add_argument(\"window-size=1920x1080\")\n",
    "chrome_options.add_argument(\"log-level=3\")\n",
    "# chrome_options.add_experimental_option(\"prefs\", {\"intl.accept_languages\": \"fr,fr-FR\"})\n",
    "# chrome_options.add_experimental_option('prefs', {'intl.accept_languages': 'fr'})\n",
    "# chrome_options.add_argument(\"--no-sandbox\")\n",
    "\n",
    "if headless:\n",
    "    chrome_options.add_argument(\"headless\")\n",
    "\n",
    "chrome_options.set_capability(\"browserName\", 'chrome')\n",
    "\n",
    "driver = webdriver.Chrome(ChromeDriverManager().install(), chrome_options=chrome_options)"
   ]
  },
  {
   "cell_type": "code",
   "execution_count": null,
   "metadata": {},
   "outputs": [],
   "source": [
    "# Suivre la vid de ce mec : https://www.youtube.com/watch?v=fAW6AxMHego\n",
    "driver.get(\"https://www.google.com\")\n",
    "print(driver.page_source)"
   ]
  }
 ],
 "metadata": {
  "interpreter": {
   "hash": "9f9c82fcea7b444e48eb44076c2da20fc05ee52638c5392b5bed9315f776ced2"
  },
  "kernelspec": {
   "display_name": "Python 3.9.7 64-bit ('python-3.9.7': pyenv)",
   "language": "python",
   "name": "python3"
  },
  "language_info": {
   "codemirror_mode": {
    "name": "ipython",
    "version": 3
   },
   "file_extension": ".py",
   "mimetype": "text/x-python",
   "name": "python",
   "nbconvert_exporter": "python",
   "pygments_lexer": "ipython3",
   "version": "3.9.7"
  },
  "orig_nbformat": 4
 },
 "nbformat": 4,
 "nbformat_minor": 2
}
