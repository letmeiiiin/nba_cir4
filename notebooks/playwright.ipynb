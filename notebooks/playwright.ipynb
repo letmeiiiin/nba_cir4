{
 "cells": [
  {
   "cell_type": "code",
   "execution_count": 3,
   "metadata": {},
   "outputs": [
    {
     "name": "stdout",
     "output_type": "stream",
     "text": [
      "[]\n"
     ]
    }
   ],
   "source": [
    "# To debug : playwright codegen \"https://www.nba.com/stats/players/traditional/?sort=PTS&dir=-1\"\n",
    "\n",
    "import asyncio, time\n",
    "from playwright.async_api import async_playwright\n",
    "\n",
    "async def scrape_players_stats():\n",
    "    async with async_playwright() as p:\n",
    "        browser = await p.chromium.launch()\n",
    "        page = await browser.new_page()\n",
    "        await page.goto(\"https://www.nba.com/stats/players/traditional/?sort=PTS&dir=-1\")\n",
    "        async with page.expect_navigation():\n",
    "            await page.click(\"text=I Accept\")\n",
    "            table = await page.query_selector_all('.nba-stat-table__overflow')\n",
    "        print(table)\n",
    "        await browser.close() \n",
    "\n",
    "async def scrape_2():\n",
    "    print(\"scraping_2...\")\n",
    "    async with async_playwright() as p:\n",
    "        browser = await p.chromium.launch()\n",
    "        page = await browser.new_page()\n",
    "        await page.goto(\"http://playwright.dev\")\n",
    "        print(await page.title())\n",
    "        await browser.close() \n",
    "    print(\"finished scraping_2\")\n",
    "\n",
    "async def scrape_3():\n",
    "    print(\"scraping_3...\")\n",
    "    await asyncio.sleep(3)\n",
    "    print(\"je fais rien vrai\")\n",
    "    print(\"finished scraping_3\")\n",
    "\n",
    "async def main():\n",
    "    await asyncio.gather(scrape_players_stats())\n",
    "\n",
    "#asyncio.run(main())\n",
    "await main()"
   ]
  },
  {
   "cell_type": "code",
   "execution_count": null,
   "metadata": {},
   "outputs": [],
   "source": []
  }
 ],
 "metadata": {
  "interpreter": {
   "hash": "d4d1e4263499bec80672ea0156c357c1ee493ec2b1c70f0acce89fc37c4a6abe"
  },
  "kernelspec": {
   "display_name": "Python 3.9.7 64-bit ('base': conda)",
   "language": "python",
   "name": "python3"
  },
  "language_info": {
   "codemirror_mode": {
    "name": "ipython",
    "version": 3
   },
   "file_extension": ".py",
   "mimetype": "text/x-python",
   "name": "python",
   "nbconvert_exporter": "python",
   "pygments_lexer": "ipython3",
   "version": "3.9.7"
  },
  "orig_nbformat": 4
 },
 "nbformat": 4,
 "nbformat_minor": 2
}
